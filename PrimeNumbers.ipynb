{
  "nbformat": 4,
  "nbformat_minor": 0,
  "metadata": {
    "colab": {
      "provenance": [],
      "authorship_tag": "ABX9TyMh1ZkIhO0MIt4ZqXROkS/V",
      "include_colab_link": true
    },
    "kernelspec": {
      "name": "python3",
      "display_name": "Python 3"
    },
    "language_info": {
      "name": "python"
    }
  },
  "cells": [
    {
      "cell_type": "markdown",
      "metadata": {
        "id": "view-in-github",
        "colab_type": "text"
      },
      "source": [
        "<a href=\"https://colab.research.google.com/github/JulioG927/optimization-umg/blob/main/PrimeNumbers.ipynb\" target=\"_parent\"><img src=\"https://colab.research.google.com/assets/colab-badge.svg\" alt=\"Open In Colab\"/></a>"
      ]
    },
    {
      "cell_type": "code",
      "execution_count": 1,
      "metadata": {
        "colab": {
          "base_uri": "https://localhost:8080/"
        },
        "id": "UbOc9R3iGCNt",
        "outputId": "a48f7a9a-3c39-4252-feec-13943a682dc8"
      },
      "outputs": [
        {
          "output_type": "stream",
          "name": "stdout",
          "text": [
            "Hello world\n"
          ]
        }
      ],
      "source": [
        "print(\"Hello world\")"
      ]
    },
    {
      "cell_type": "code",
      "source": [],
      "metadata": {
        "id": "pr-U13KgGO0g"
      },
      "execution_count": null,
      "outputs": []
    },
    {
      "cell_type": "markdown",
      "source": [
        "#Prime Number Search\n",
        "An algorithm to find prime numbers given an input array"
      ],
      "metadata": {
        "id": "_33ANdxsGRB3"
      }
    },
    {
      "cell_type": "code",
      "source": [
        "A = [1, 2, 3, 4, 5, 6, 7, 8, 9, 10]\n",
        "print(A)"
      ],
      "metadata": {
        "colab": {
          "base_uri": "https://localhost:8080/"
        },
        "id": "W0fCWGCVGKuc",
        "outputId": "de047169-3c0f-4b00-c9c0-fc9796febcee"
      },
      "execution_count": 2,
      "outputs": [
        {
          "output_type": "stream",
          "name": "stdout",
          "text": [
            "[1, 2, 3, 4, 5, 6, 7, 8, 9, 10]\n"
          ]
        }
      ]
    },
    {
      "cell_type": "code",
      "source": [
        "for x in A:\n",
        "  if(x % 2 == 0):\n",
        "    print(\"Find!\", x)"
      ],
      "metadata": {
        "colab": {
          "base_uri": "https://localhost:8080/"
        },
        "id": "ZMeCERVZGknw",
        "outputId": "96c262dd-ec2c-4a90-99ad-6104ff7e8a4c"
      },
      "execution_count": 5,
      "outputs": [
        {
          "output_type": "stream",
          "name": "stdout",
          "text": [
            "Find! 2\n",
            "Find! 4\n",
            "Find! 6\n",
            "Find! 8\n",
            "Find! 10\n"
          ]
        }
      ]
    },
    {
      "cell_type": "code",
      "source": [],
      "metadata": {
        "id": "HLAjvEqjGpGU"
      },
      "execution_count": null,
      "outputs": []
    }
  ]
}