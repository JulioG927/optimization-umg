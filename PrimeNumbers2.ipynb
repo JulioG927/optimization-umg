{
  "nbformat": 4,
  "nbformat_minor": 0,
  "metadata": {
    "colab": {
      "provenance": [],
      "authorship_tag": "ABX9TyOesWHLeHLuQXTkle9xcNXs",
      "include_colab_link": true
    },
    "kernelspec": {
      "name": "python3",
      "display_name": "Python 3"
    },
    "language_info": {
      "name": "python"
    }
  },
  "cells": [
    {
      "cell_type": "markdown",
      "metadata": {
        "id": "view-in-github",
        "colab_type": "text"
      },
      "source": [
        "<a href=\"https://colab.research.google.com/github/JulioG927/optimization-umg/blob/main/PrimeNumbers2.ipynb\" target=\"_parent\"><img src=\"https://colab.research.google.com/assets/colab-badge.svg\" alt=\"Open In Colab\"/></a>"
      ]
    },
    {
      "cell_type": "code",
      "source": [],
      "metadata": {
        "id": "H-SdIJz_6LZi"
      },
      "execution_count": null,
      "outputs": []
    },
    {
      "cell_type": "markdown",
      "source": [
        "#Prime number search\n",
        "\n",
        "An algorithm to find prime numbers given an input array."
      ],
      "metadata": {
        "id": "m0uFulTu6XQG"
      }
    },
    {
      "cell_type": "code",
      "source": [
        "A = [1, 2, 3, 4, 5, 6, 7, 8, 9, 10]\n",
        "print(A)"
      ],
      "metadata": {
        "colab": {
          "base_uri": "https://localhost:8080/"
        },
        "id": "iuKIoU2n6fqf",
        "outputId": "5287a9a0-d85d-4867-e841-7eb5d05f20a2"
      },
      "execution_count": 2,
      "outputs": [
        {
          "output_type": "stream",
          "name": "stdout",
          "text": [
            "[1, 2, 3, 4, 5, 6, 7, 8, 9, 10]\n"
          ]
        }
      ]
    },
    {
      "cell_type": "code",
      "source": [
        "i = 0\n",
        "int (i)\n",
        "for x in A:\n",
        "  if x > 1:\n",
        "    contador = 0\n",
        "    i = 2\n",
        "    while i < x and contador == 0:\n",
        "      modulo = x % i\n",
        "      if modulo == 0:\n",
        "        contador += 1\n",
        "      i += 1\n",
        "    if contador == 0:\n",
        "      print(x)"
      ],
      "metadata": {
        "colab": {
          "base_uri": "https://localhost:8080/"
        },
        "id": "qC-_VI7s6_5P",
        "outputId": "7fa65f74-f710-469f-a436-62710a24f47a"
      },
      "execution_count": 6,
      "outputs": [
        {
          "output_type": "stream",
          "name": "stdout",
          "text": [
            "2\n",
            "3\n",
            "5\n",
            "7\n"
          ]
        }
      ]
    },
    {
      "cell_type": "code",
      "source": [],
      "metadata": {
        "id": "_5MV88zeHxpi"
      },
      "execution_count": null,
      "outputs": []
    }
  ]
}